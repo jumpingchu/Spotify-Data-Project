{
 "cells": [
  {
   "cell_type": "code",
   "execution_count": 1,
   "metadata": {},
   "outputs": [
    {
     "data": {
      "text/html": [
       "<pre style=\"white-space:pre;overflow-x:auto;line-height:normal;font-family:Menlo,'DejaVu Sans Mono',consolas,'Courier New',monospace\"><span style=\"color: #00ff00; text-decoration-color: #00ff00; font-style: italic\">True</span>\n",
       "</pre>\n"
      ],
      "text/plain": [
       "\u001b[3;92mTrue\u001b[0m\n"
      ]
     },
     "metadata": {},
     "output_type": "display_data"
    }
   ],
   "source": [
    "import os\n",
    "import pandas as pd\n",
    "from rich import pretty\n",
    "from dotenv import load_dotenv\n",
    "import spotipy\n",
    "from spotipy.oauth2 import SpotifyClientCredentials\n",
    "\n",
    "pretty.install()\n",
    "load_dotenv()"
   ]
  },
  {
   "cell_type": "code",
   "execution_count": 2,
   "metadata": {},
   "outputs": [],
   "source": [
    "client_id = os.getenv('CLIENT_ID')\n",
    "client_secret = os.getenv('CLIENT_SECRET')\n",
    "redirect_uri = os.getenv('REDIRECT_URI')"
   ]
  },
  {
   "cell_type": "code",
   "execution_count": 3,
   "metadata": {},
   "outputs": [],
   "source": [
    "client_credentials_mgr = SpotifyClientCredentials(\n",
    "    client_id=client_id,\n",
    "    client_secret=client_secret\n",
    ")\n",
    "sp = spotipy.Spotify(client_credentials_manager=client_credentials_mgr)\n",
    "\n",
    "# playlist_link = 'https://open.spotify.com/playlist/37i9dQZEVXbNG2KDcFcKOF' # 熱門 50 全球\n",
    "playlist_link = 'https://open.spotify.com/playlist/37i9dQZF1DWT8aqnwgRt92' # Anime Now\n",
    "playlist_URI = playlist_link.split('/')[-1]\n",
    "spotify_data = sp.playlist_tracks(playlist_URI)"
   ]
  },
  {
   "cell_type": "code",
   "execution_count": 4,
   "metadata": {},
   "outputs": [],
   "source": [
    "data_df = pd.DataFrame.from_dict(spotify_data)"
   ]
  },
  {
   "cell_type": "code",
   "execution_count": 5,
   "metadata": {},
   "outputs": [
    {
     "name": "stdout",
     "output_type": "stream",
     "text": [
      "YOASOBI\n",
      "MAN WITH A MISSION\n",
      "QUEEN BEE\n",
      "millennium parade\n",
      "yama\n",
      "milet\n",
      "Survive Said The Prophet\n",
      "ヨルシカ\n",
      "BTS\n",
      "OKAMOTO'S\n",
      "Aimer\n",
      "Uru\n",
      "AiNA THE END\n",
      "SPITZ\n",
      "Aiba Aina\n",
      "PEOPLE 1\n",
      "BiSH\n",
      "ASOBI同盟\n",
      "EGOIST\n",
      "sumika\n",
      "Huwie Ishizaki\n",
      "Takanori Nishikawa\n",
      "ASCA\n",
      "楠木 ともり\n",
      "Machico\n",
      "ヒプノシスマイク -D.R.B- (中王区 言の葉党)\n",
      "SiM\n",
      "UNISON SQUARE GARDEN\n",
      "Brian Tyler\n",
      "Tsukuyomi\n",
      "Masayoshi Oishi\n",
      "Neko Hacker\n",
      "楠木 ともり\n",
      "Nanawoakari\n",
      "NOILION\n",
      "Void_Chords\n",
      "Okazaki Taiiku\n",
      "Philosophy no Dance\n",
      "Nanaka Suwa\n",
      "Inori Minase\n",
      "BIN\n",
      "Novelbright\n",
      "粗品\n",
      "Various Artists\n",
      "Haruka Tomatsu\n",
      "Homecomings\n",
      "Mamoru Miyano\n",
      "Saori Hayami\n",
      "ClariS\n",
      "Ling tosite sigure\n",
      "Taichi Mukai\n",
      "GARNiDELiA\n",
      "aiko\n",
      "Ling tosite sigure\n",
      "鈴木愛奈\n",
      "Ryujin Kiyoshi\n",
      "Shikao Suga\n",
      "藤川千愛\n",
      "Kenshi Yonezu\n",
      "OFFICIAL HIGE DANDISM\n",
      "Ikusaburo Yamazaki\n",
      "サトシ(CV:松本梨香)\n",
      "江口拓也\n",
      "yanaginagi\n",
      "須田景凪\n",
      "TrySail\n",
      "#kzn\n",
      "KANA-BOON\n",
      "MindaRyn\n",
      "松本千夏\n",
      "Kitri\n",
      "音莉飴\n",
      "Aimi\n",
      "JUNNA\n",
      "こはならむ\n",
      "Masayoshi Oishi\n",
      "SCANDAL\n",
      "渕上 舞\n",
      "AB6IX\n",
      "来栖りん\n",
      "RADWIMPS\n",
      "SERRA\n",
      "NANALAND\n",
      "edda\n",
      "Cody・Lee(李)\n"
     ]
    }
   ],
   "source": [
    "for i in data_df['items']:\n",
    "    print(i['track']['album']['artists'][0]['name'])"
   ]
  },
  {
   "cell_type": "code",
   "execution_count": null,
   "metadata": {},
   "outputs": [],
   "source": []
  }
 ],
 "metadata": {
  "kernelspec": {
   "display_name": "Python 3",
   "language": "python",
   "name": "python3"
  },
  "language_info": {
   "codemirror_mode": {
    "name": "ipython",
    "version": 3
   },
   "file_extension": ".py",
   "mimetype": "text/x-python",
   "name": "python",
   "nbconvert_exporter": "python",
   "pygments_lexer": "ipython3",
   "version": "3.9.5"
  },
  "orig_nbformat": 4
 },
 "nbformat": 4,
 "nbformat_minor": 2
}
